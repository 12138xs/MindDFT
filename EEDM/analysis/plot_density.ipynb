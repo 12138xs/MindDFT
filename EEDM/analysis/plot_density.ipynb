{
 "cells": [
  {
   "cell_type": "markdown",
   "metadata": {
    "tags": []
   },
   "source": [
    "# Plotting Electron Densities\n",
    "\n",
    "This notebook is meant to show how you can plot machine learned densities. It uses an example structure and pretrained model. You should use this as a template with your own structure(s) and model(s)"
   ]
  },
  {
   "cell_type": "code",
   "execution_count": null,
   "metadata": {},
   "outputs": [],
   "source": [
    "%load_ext autoreload\n",
    "%autoreload 2\n",
    "\n",
    "import sys\n",
    "import os\n",
    "import math\n",
    "import numpy as np\n",
    "\n",
    "import torch\n",
    "import torch_geometric\n",
    "\n",
    "from torch_cluster import radius_graph\n",
    "from torch_scatter import scatter\n",
    "\n",
    "#sys.path.append(os.path.dirname(os.path.dirname(os.path.abspath(__file__))))\n",
    "sys.path.append(os.path.dirname(os.path.abspath('')))\n",
    "from utils import get_iso_permuted_dataset, get_iso_dataset\n",
    "\n",
    "device = torch.device(\"cuda\" if torch.cuda.is_available() else \"cpu\")\n",
    "\n",
    "torch.set_default_dtype(torch.float32)"
   ]
  },
  {
   "cell_type": "code",
   "execution_count": null,
   "metadata": {},
   "outputs": [],
   "source": [
    "# first, get dataset\n",
    "hhh = \"../data/h_s_only_def2-universal-jfit-decontract_density.out\"\n",
    "ooo = \"../data/o_s_only_def2-universal-jfit-decontract_density.out\"\n",
    "\n",
    "fours = \"../tests/test_data_generation/testdata_w4.pkl\"\n",
    "w04_dataset = get_iso_permuted_dataset(fours,o_iso=ooo,h_iso=hhh)\n",
    "\n",
    "data_loader = torch_geometric.data.DataLoader(w04_dataset[:], batch_size=1, shuffle=False)\n"
   ]
  },
  {
   "cell_type": "code",
   "execution_count": null,
   "metadata": {},
   "outputs": [],
   "source": [
    "# now get model\n",
    "from e3nn.nn.models.gate_points_2101 import Network\n",
    "from e3nn import o3\n",
    "\n",
    "model_kwargs = {\n",
    "        \"irreps_in\": \"2x 0e\", #irreps_in \n",
    "        \"irreps_hidden\": [(mul, (l, p)) for l, mul in enumerate([125,40,25,15]) for p in [-1, 1]], #irreps_hidden\n",
    "        #\"irreps_hidden\": \"100x0e + 100x0o\",\n",
    "        \"irreps_out\": \"12x0e + 5x1o + 4x2e + 2x3o + 1x4e\", #irreps_out\n",
    "        \"irreps_node_attr\": None, #irreps_node_attr\n",
    "        \"irreps_edge_attr\": o3.Irreps.spherical_harmonics(3), #irreps_edge_attr\n",
    "        \"layers\": 3,\n",
    "        \"max_radius\": 3.5,\n",
    "        \"number_of_basis\": 10,\n",
    "        \"radial_layers\": 1,\n",
    "        \"radial_neurons\": 128,\n",
    "        \"num_neighbors\": 12.2298,\n",
    "        \"num_nodes\": 24,\n",
    "        \"reduce_output\": False,\n",
    "    }\n",
    "\n",
    "model = Network(**model_kwargs)\n",
    "model.to(device)\n",
    "\n",
    "model.load_state_dict(torch.load('pretrained_model.pt'))"
   ]
  },
  {
   "cell_type": "code",
   "execution_count": null,
   "metadata": {},
   "outputs": [],
   "source": [
    "# import ploting stuff\n",
    "\n",
    "import plotly\n",
    "from plotly.subplots import make_subplots\n",
    "import plotly.graph_objects as go\n",
    "\n",
    "from utils import generate_grid, gau2grid_density_kdtree"
   ]
  },
  {
   "cell_type": "code",
   "execution_count": null,
   "metadata": {},
   "outputs": [],
   "source": [
    "# plot the density\n",
    "# for first structure\n",
    "\n",
    "num = 0\n",
    "data = data_loader.dataset[num]\n",
    "\n",
    "# generate grid\n",
    "x,y,z,vol,x_spacing,y_spacing,z_spacing = generate_grid(data,spacing=0.15,buffer=1.0)\n",
    "\n",
    "# evaluate model\n",
    "mask = torch.where(data.y == 0, torch.zeros_like(data.y), torch.ones_like(data.y)).detach()\n",
    "y_ml = model(data.to(device))*mask.to(device)\n",
    "\n",
    "# get densities\n",
    "Rs = [(12, 0), (5, 1), (4, 2), (2, 3), (1, 4)]\n",
    "target_density, ml_density = gau2grid_density_kdtree(x.flatten(),y.flatten(),z.flatten(),data,y_ml,Rs)\n",
    "\n",
    "# plot densities\n",
    "rows = 1\n",
    "cols = 2\n",
    "specs = [[{'is_3d': True} for i in range(cols)]\n",
    "         for j in range(rows)]\n",
    "fig = go.FigureWidget(make_subplots(rows=rows, cols=cols, specs=specs, vertical_spacing=0.0))\n",
    "\n",
    "points = data.pos_orig\n",
    "xs = points.cpu().numpy()[:,0]\n",
    "ys = points.cpu().numpy()[:,1]\n",
    "zs = points.cpu().numpy()[:,2]\n",
    "geom = go.Scatter3d(x=xs,y=ys,z=zs,mode='markers',marker=dict(size=[30,15,15]*64,color=[\"red\",\"black\",\"black\"]*64,opacity=1.0))\n",
    "fig.add_trace(geom)\n",
    "fig.add_trace(geom,row=1,col=2)\n",
    "\n",
    "fig.add_trace(go.Volume(\n",
    "        x=x.flatten(),\n",
    "        y=y.flatten(),\n",
    "        z=z.flatten(),\n",
    "        value=target_density.flatten(),\n",
    "        isomax=0.05,\n",
    "        colorscale='BuGn',\n",
    "        opacity=0.1, # needs to be small to see through all surfaces\n",
    "        surface_count=12, # needs to be a large number for good volume rendering\n",
    "        showscale=False,\n",
    "    ),row=1,col=1)\n",
    "\n",
    "fig.add_trace(go.Volume(\n",
    "        x=x.flatten(),\n",
    "        y=y.flatten(),\n",
    "        z=z.flatten(),\n",
    "        value=ml_density.flatten(),\n",
    "        isomax=0.05,\n",
    "        colorscale='BuGn',\n",
    "        opacity=0.1, # needs to be small to see through all surfaces\n",
    "        surface_count=12, # needs to be a large number for good volume rendering\n",
    "        showscale=False,\n",
    "    ),row=1,col=2)\n",
    "\n",
    "fig.update_layout(showlegend=False, width=1000, height=500)\n",
    "\n",
    "fig.show()"
   ]
  },
  {
   "cell_type": "code",
   "execution_count": null,
   "metadata": {},
   "outputs": [],
   "source": [
    "# now plot the difference\n",
    "\n",
    "fig = go.FigureWidget()\n",
    "\n",
    "points = data.pos_orig\n",
    "xs = points.cpu().numpy()[:,0]\n",
    "ys = points.cpu().numpy()[:,1]\n",
    "zs = points.cpu().numpy()[:,2]\n",
    "geom = go.Scatter3d(x=xs,y=ys,z=zs,mode='markers',marker=dict(size=[30,15,15]*64,color=[\"red\",\"black\",\"black\"]*64,opacity=1.0))\n",
    "fig.add_trace(geom)\n",
    "\n",
    "fig.add_trace(go.Volume(\n",
    "        x=x.flatten(),\n",
    "        y=y.flatten(),\n",
    "        z=z.flatten(),\n",
    "        value=ml_density.flatten() - target_density.flatten(),\n",
    "        isomin=-0.05,\n",
    "        isomax=0.05,\n",
    "        #colorscale='BuGn',\n",
    "        opacity=0.1, # needs to be small to see through all surfaces\n",
    "        surface_count=12, # needs to be a large number for good volume rendering\n",
    "    ))\n",
    "\n",
    "fig.update_layout(width=600, height=600)\n",
    "\n",
    "fig.show()"
   ]
  },
  {
   "cell_type": "code",
   "execution_count": null,
   "metadata": {},
   "outputs": [],
   "source": [
    "# now calculate ep\n",
    "ep = 100 * np.sum(np.abs(ml_density-target_density)) / np.sum(target_density)\n",
    "print(\"Density Difference Error (%)\", ep)"
   ]
  },
  {
   "cell_type": "code",
   "execution_count": null,
   "metadata": {},
   "outputs": [],
   "source": []
  },
  {
   "cell_type": "code",
   "execution_count": null,
   "metadata": {},
   "outputs": [],
   "source": []
  },
  {
   "cell_type": "code",
   "execution_count": null,
   "metadata": {},
   "outputs": [],
   "source": []
  }
 ],
 "metadata": {
  "kernelspec": {
   "display_name": "e3nn_sept",
   "language": "python",
   "name": "e3nn_sept"
  },
  "language_info": {
   "codemirror_mode": {
    "name": "ipython",
    "version": 3
   },
   "file_extension": ".py",
   "mimetype": "text/x-python",
   "name": "python",
   "nbconvert_exporter": "python",
   "pygments_lexer": "ipython3",
   "version": "3.8.10"
  }
 },
 "nbformat": 4,
 "nbformat_minor": 4
}
