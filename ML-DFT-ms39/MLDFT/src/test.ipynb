{
 "cells": [
  {
   "cell_type": "code",
   "execution_count": null,
   "metadata": {},
   "outputs": [],
   "source": [
    "\"\"\"\n",
    "i1 = ops.ones((1,160,360))\n",
    "i2 = ops.ones((1,160,360))\n",
    "i3 = ops.ones((1,160,360))\n",
    "i4 = ops.ones((1,160,360))\n",
    "#i5 = ops.ones((1,))\n",
    "#i6 = ops.ones((7,6,341))\n",
    "#i7 = ops.ones((7,6,341))\n",
    "#i8 = ops.ones((7,6,341))\n",
    "#i9 = ops.ones((7,6,341))\n",
    "model = modelCHG(160)\n",
    "y1,y2,y3,y4 = model(i1,i2,i3,i4)\n",
    "print(y1.shape)\n",
    "print(y2.shape)\n",
    "print(model)\n",
    "\"\"\"\n",
    "\n"
   ]
  },
  {
   "cell_type": "code",
   "execution_count": null,
   "metadata": {},
   "outputs": [],
   "source": [
    "\"\"\"\n",
    "i1 = ops.ones((7,6,700))\n",
    "i2 = ops.ones((7,6,568))\n",
    "i3 = ops.ones((7,6,700))\n",
    "i4 = ops.ones((7,6,700))\n",
    "i5 = ops.ones((1,))\n",
    "i6 = ops.ones((7,6,341))\n",
    "i7 = ops.ones((7,6,341))\n",
    "i8 = ops.ones((7,6,341))\n",
    "i9 = ops.ones((7,6,341))\n",
    "model = modelDOS(6)\n",
    "y1,y2 = model(i1,i2,i3,i4,i5,i6,i7,i8,i9)\n",
    "print(y1.shape)\n",
    "print(y2.shape)\n",
    "print(model)\n",
    "\"\"\"\n"
   ]
  }
 ],
 "metadata": {
  "language_info": {
   "name": "python"
  }
 },
 "nbformat": 4,
 "nbformat_minor": 2
}
